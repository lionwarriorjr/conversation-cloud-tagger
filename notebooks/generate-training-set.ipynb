{
 "cells": [
  {
   "cell_type": "code",
   "execution_count": 2,
   "metadata": {
    "collapsed": true
   },
   "outputs": [],
   "source": [
    "import pandas as pd\n",
    "import glob, os"
   ]
  },
  {
   "cell_type": "code",
   "execution_count": 5,
   "metadata": {
    "collapsed": false
   },
   "outputs": [],
   "source": [
    "files = []\n",
    "os.chdir(\".\")\n",
    "for file in glob.glob(\"*.csv\"):\n",
    "    if file != \"timeseries.csv\":\n",
    "        files.append(file)"
   ]
  },
  {
   "cell_type": "code",
   "execution_count": 8,
   "metadata": {
    "collapsed": false
   },
   "outputs": [
    {
     "data": {
      "text/plain": [
       "['tweets_cnn.csv',\n",
       " 'tweets_no collusion.csv',\n",
       " 'tweets_ben shapiro.csv',\n",
       " 'tweets_censorship.csv',\n",
       " 'tweets_medicare for all.csv',\n",
       " 'tweets_white nationalist.csv',\n",
       " 'tweets_black lives matter.csv',\n",
       " 'tweets_tucker carlson.csv',\n",
       " 'tweets_mueller.csv',\n",
       " 'tweets_msnbc.csv',\n",
       " 'tweets_impeach.csv',\n",
       " 'tweets_fox news.csv',\n",
       " 'tweets_free speech college campuses.csv',\n",
       " 'tweets_politics.csv',\n",
       " 'tweets_ilhan.csv',\n",
       " 'tweets_jordan peterson.csv',\n",
       " 'tweets_rashida tlaib.csv',\n",
       " 'tweets_democrats.csv',\n",
       " 'tweets_david hogg.csv',\n",
       " 'tweets_rachel maddow.csv',\n",
       " 'tweets_MAGA.csv',\n",
       " 'tweets_republicans.csv',\n",
       " 'tweets_breitbart.csv',\n",
       " 'tweets_socialism.csv',\n",
       " 'tweets_green new deal.csv',\n",
       " 'tweets_abortion.csv',\n",
       " 'tweets_#alexjones.csv',\n",
       " 'tweets_capitalism.csv',\n",
       " 'tweets_AOC.csv',\n",
       " 'tweets_second ammendment.csv',\n",
       " 'tweets_intersectionality.csv',\n",
       " 'tweets_separating families.csv',\n",
       " 'tweets_build the wall.csv',\n",
       " 'tweets_trump.csv',\n",
       " 'tweets_white people.csv']"
      ]
     },
     "execution_count": 8,
     "metadata": {},
     "output_type": "execute_result"
    }
   ],
   "source": [
    "files"
   ]
  },
  {
   "cell_type": "code",
   "execution_count": 15,
   "metadata": {
    "collapsed": true
   },
   "outputs": [],
   "source": [
    "df = pd.DataFrame(columns=['text','timestamp','toxicity'])"
   ]
  },
  {
   "cell_type": "code",
   "execution_count": 16,
   "metadata": {
    "collapsed": false
   },
   "outputs": [
    {
     "name": "stdout",
     "output_type": "stream",
     "text": [
      "(2746, 3)\n"
     ]
    },
    {
     "data": {
      "text/html": [
       "<div>\n",
       "<style scoped>\n",
       "    .dataframe tbody tr th:only-of-type {\n",
       "        vertical-align: middle;\n",
       "    }\n",
       "\n",
       "    .dataframe tbody tr th {\n",
       "        vertical-align: top;\n",
       "    }\n",
       "\n",
       "    .dataframe thead th {\n",
       "        text-align: right;\n",
       "    }\n",
       "</style>\n",
       "<table border=\"1\" class=\"dataframe\">\n",
       "  <thead>\n",
       "    <tr style=\"text-align: right;\">\n",
       "      <th></th>\n",
       "      <th>text</th>\n",
       "      <th>timestamp</th>\n",
       "      <th>toxicity</th>\n",
       "    </tr>\n",
       "  </thead>\n",
       "  <tbody>\n",
       "    <tr>\n",
       "      <th>0</th>\n",
       "      <td>RT @BuckSexton: Just gonna say this once: If y...</td>\n",
       "      <td>2019-04-17 23:59:59</td>\n",
       "      <td>0.246130</td>\n",
       "    </tr>\n",
       "    <tr>\n",
       "      <th>1</th>\n",
       "      <td>RT @CNN: It's hiatus time for the crew at \"Jeo...</td>\n",
       "      <td>2019-04-17 23:59:59</td>\n",
       "      <td>0.392704</td>\n",
       "    </tr>\n",
       "    <tr>\n",
       "      <th>2</th>\n",
       "      <td>RT @rojawi: A primary challenge can weaken an ...</td>\n",
       "      <td>2019-04-17 23:59:58</td>\n",
       "      <td>0.171551</td>\n",
       "    </tr>\n",
       "    <tr>\n",
       "      <th>3</th>\n",
       "      <td>RT @DineshDSouza: Wonderful! Beto tells us tha...</td>\n",
       "      <td>2019-04-17 23:59:57</td>\n",
       "      <td>0.714343</td>\n",
       "    </tr>\n",
       "    <tr>\n",
       "      <th>4</th>\n",
       "      <td>RT @cnnbrk: The Environmental Protection Agenc...</td>\n",
       "      <td>2019-04-17 23:59:57</td>\n",
       "      <td>0.162060</td>\n",
       "    </tr>\n",
       "  </tbody>\n",
       "</table>\n",
       "</div>"
      ],
      "text/plain": [
       "                                                text            timestamp  \\\n",
       "0  RT @BuckSexton: Just gonna say this once: If y...  2019-04-17 23:59:59   \n",
       "1  RT @CNN: It's hiatus time for the crew at \"Jeo...  2019-04-17 23:59:59   \n",
       "2  RT @rojawi: A primary challenge can weaken an ...  2019-04-17 23:59:58   \n",
       "3  RT @DineshDSouza: Wonderful! Beto tells us tha...  2019-04-17 23:59:57   \n",
       "4  RT @cnnbrk: The Environmental Protection Agenc...  2019-04-17 23:59:57   \n",
       "\n",
       "   toxicity  \n",
       "0  0.246130  \n",
       "1  0.392704  \n",
       "2  0.171551  \n",
       "3  0.714343  \n",
       "4  0.162060  "
      ]
     },
     "execution_count": 16,
     "metadata": {},
     "output_type": "execute_result"
    }
   ],
   "source": [
    "for file in files:\n",
    "    df = df.append(pd.read_csv(file))\n",
    "print(df.shape)\n",
    "df.head()"
   ]
  },
  {
   "cell_type": "code",
   "execution_count": 17,
   "metadata": {
    "collapsed": false
   },
   "outputs": [
    {
     "data": {
      "text/html": [
       "<div>\n",
       "<style scoped>\n",
       "    .dataframe tbody tr th:only-of-type {\n",
       "        vertical-align: middle;\n",
       "    }\n",
       "\n",
       "    .dataframe tbody tr th {\n",
       "        vertical-align: top;\n",
       "    }\n",
       "\n",
       "    .dataframe thead th {\n",
       "        text-align: right;\n",
       "    }\n",
       "</style>\n",
       "<table border=\"1\" class=\"dataframe\">\n",
       "  <thead>\n",
       "    <tr style=\"text-align: right;\">\n",
       "      <th></th>\n",
       "      <th>text</th>\n",
       "      <th>timestamp</th>\n",
       "      <th>toxicity</th>\n",
       "    </tr>\n",
       "  </thead>\n",
       "  <tbody>\n",
       "    <tr>\n",
       "      <th>0</th>\n",
       "      <td>RT @BuckSexton: Just gonna say this once: If y...</td>\n",
       "      <td>2019-04-17 23:59:59</td>\n",
       "      <td>24.613045</td>\n",
       "    </tr>\n",
       "    <tr>\n",
       "      <th>1</th>\n",
       "      <td>RT @CNN: It's hiatus time for the crew at \"Jeo...</td>\n",
       "      <td>2019-04-17 23:59:59</td>\n",
       "      <td>39.270386</td>\n",
       "    </tr>\n",
       "    <tr>\n",
       "      <th>2</th>\n",
       "      <td>RT @rojawi: A primary challenge can weaken an ...</td>\n",
       "      <td>2019-04-17 23:59:58</td>\n",
       "      <td>17.155070</td>\n",
       "    </tr>\n",
       "    <tr>\n",
       "      <th>3</th>\n",
       "      <td>RT @DineshDSouza: Wonderful! Beto tells us tha...</td>\n",
       "      <td>2019-04-17 23:59:57</td>\n",
       "      <td>71.434260</td>\n",
       "    </tr>\n",
       "    <tr>\n",
       "      <th>4</th>\n",
       "      <td>RT @cnnbrk: The Environmental Protection Agenc...</td>\n",
       "      <td>2019-04-17 23:59:57</td>\n",
       "      <td>16.205998</td>\n",
       "    </tr>\n",
       "  </tbody>\n",
       "</table>\n",
       "</div>"
      ],
      "text/plain": [
       "                                                text            timestamp  \\\n",
       "0  RT @BuckSexton: Just gonna say this once: If y...  2019-04-17 23:59:59   \n",
       "1  RT @CNN: It's hiatus time for the crew at \"Jeo...  2019-04-17 23:59:59   \n",
       "2  RT @rojawi: A primary challenge can weaken an ...  2019-04-17 23:59:58   \n",
       "3  RT @DineshDSouza: Wonderful! Beto tells us tha...  2019-04-17 23:59:57   \n",
       "4  RT @cnnbrk: The Environmental Protection Agenc...  2019-04-17 23:59:57   \n",
       "\n",
       "    toxicity  \n",
       "0  24.613045  \n",
       "1  39.270386  \n",
       "2  17.155070  \n",
       "3  71.434260  \n",
       "4  16.205998  "
      ]
     },
     "execution_count": 17,
     "metadata": {},
     "output_type": "execute_result"
    }
   ],
   "source": [
    "df.toxicity *= 100\n",
    "df.head()"
   ]
  },
  {
   "cell_type": "code",
   "execution_count": 18,
   "metadata": {
    "collapsed": true
   },
   "outputs": [],
   "source": [
    "df.to_csv(\"tweets_training.csv\", index=False)"
   ]
  }
 ],
 "metadata": {
  "kernelspec": {
   "display_name": "Python 3",
   "language": "python",
   "name": "python3"
  },
  "language_info": {
   "codemirror_mode": {
    "name": "ipython",
    "version": 3
   },
   "file_extension": ".py",
   "mimetype": "text/x-python",
   "name": "python",
   "nbconvert_exporter": "python",
   "pygments_lexer": "ipython3",
   "version": "3.5.2"
  }
 },
 "nbformat": 4,
 "nbformat_minor": 2
}
