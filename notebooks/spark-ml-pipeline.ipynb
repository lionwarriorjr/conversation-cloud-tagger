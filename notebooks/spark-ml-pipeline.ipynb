{
 "cells": [
  {
   "cell_type": "markdown",
   "metadata": {},
   "source": [
    "# MLTOX: Spark ML Pipeline"
   ]
  },
  {
   "cell_type": "code",
   "execution_count": 1,
   "metadata": {
    "collapsed": false
   },
   "outputs": [],
   "source": [
    "import pandas as pd\n",
    "import nltk\n",
    "from sklearn.feature_extraction.text import CountVectorizer\n",
    "from sklearn.feature_extraction.text import TfidfTransformer\n",
    "from nltk.stem.porter import PorterStemmer\n",
    "from nltk.corpus import stopwords\n",
    "from nltk.stem.porter import *\n",
    "import string\n",
    "import numpy as np\n",
    "from pyspark import SparkContext\n",
    "from pyspark.ml import Pipeline, PipelineModel\n",
    "from pyspark.ml.tuning import CrossValidator, CrossValidatorModel, ParamGridBuilder\n",
    "from pyspark.ml.regression import GBTRegressor\n",
    "from pyspark.ml.feature import * \n",
    "from pyspark.ml.evaluation import RegressionEvaluator\n",
    "from pyspark.sql import SQLContext, SparkSession, Row\n",
    "from pyspark.sql.types import *\n",
    "import pyspark.sql.functions as F\n",
    "from google.cloud import bigquery\n",
    "from pyod.models.loci import LOCI\n",
    "import pyflux as pf\n",
    "from kafka import KafkaConsumer"
   ]
  },
  {
   "cell_type": "code",
   "execution_count": 2,
   "metadata": {
    "collapsed": true
   },
   "outputs": [],
   "source": [
    "def cleanText(column):\n",
    "    return F.trim(F.lower(F.regexp_replace(column, '([^\\s\\w_]|_)+', ''))).alias('text')\n",
    "\n",
    "def stem(in_vec):\n",
    "    out_vec = []\n",
    "    for t in in_vec:\n",
    "        t_stem = stemmer.stem(t)\n",
    "        if len(t_stem) > 2:\n",
    "            out_vec.append(t_stem)       \n",
    "    return out_vec\n",
    "\n",
    "def zipindexdf(df):\n",
    "    schema_new = df.schema.add(\"index\", LongType(), False)\n",
    "    return df.rdd.zipWithIndex().map(lambda l: list(l[0]) + [l[1]]).toDF(schema_new)"
   ]
  },
  {
   "cell_type": "code",
   "execution_count": 3,
   "metadata": {
    "collapsed": false
   },
   "outputs": [
    {
     "data": {
      "text/html": [
       "<div>\n",
       "<style scoped>\n",
       "    .dataframe tbody tr th:only-of-type {\n",
       "        vertical-align: middle;\n",
       "    }\n",
       "\n",
       "    .dataframe tbody tr th {\n",
       "        vertical-align: top;\n",
       "    }\n",
       "\n",
       "    .dataframe thead th {\n",
       "        text-align: right;\n",
       "    }\n",
       "</style>\n",
       "<table border=\"1\" class=\"dataframe\">\n",
       "  <thead>\n",
       "    <tr style=\"text-align: right;\">\n",
       "      <th></th>\n",
       "      <th>text</th>\n",
       "      <th>label</th>\n",
       "    </tr>\n",
       "  </thead>\n",
       "  <tbody>\n",
       "    <tr>\n",
       "      <th>0</th>\n",
       "      <td>RT @BuckSexton: Just gonna say this once: If y...</td>\n",
       "      <td>24.613045</td>\n",
       "    </tr>\n",
       "    <tr>\n",
       "      <th>1</th>\n",
       "      <td>RT @CNN: It's hiatus time for the crew at \"Jeo...</td>\n",
       "      <td>39.270386</td>\n",
       "    </tr>\n",
       "    <tr>\n",
       "      <th>2</th>\n",
       "      <td>RT @rojawi: A primary challenge can weaken an ...</td>\n",
       "      <td>17.155070</td>\n",
       "    </tr>\n",
       "    <tr>\n",
       "      <th>3</th>\n",
       "      <td>RT @DineshDSouza: Wonderful! Beto tells us tha...</td>\n",
       "      <td>71.434260</td>\n",
       "    </tr>\n",
       "    <tr>\n",
       "      <th>4</th>\n",
       "      <td>RT @cnnbrk: The Environmental Protection Agenc...</td>\n",
       "      <td>16.205998</td>\n",
       "    </tr>\n",
       "  </tbody>\n",
       "</table>\n",
       "</div>"
      ],
      "text/plain": [
       "                                                text      label\n",
       "0  RT @BuckSexton: Just gonna say this once: If y...  24.613045\n",
       "1  RT @CNN: It's hiatus time for the crew at \"Jeo...  39.270386\n",
       "2  RT @rojawi: A primary challenge can weaken an ...  17.155070\n",
       "3  RT @DineshDSouza: Wonderful! Beto tells us tha...  71.434260\n",
       "4  RT @cnnbrk: The Environmental Protection Agenc...  16.205998"
      ]
     },
     "execution_count": 3,
     "metadata": {},
     "output_type": "execute_result"
    }
   ],
   "source": [
    "tweets = pd.read_csv('toxic-data/tweets_training.csv', encoding='latin-1')\n",
    "tweets = tweets.drop('timestamp', axis=1)\n",
    "tweets.columns = ['text', 'label']\n",
    "tweets.head()"
   ]
  },
  {
   "cell_type": "code",
   "execution_count": 4,
   "metadata": {
    "collapsed": false
   },
   "outputs": [
    {
     "data": {
      "text/html": [
       "<div>\n",
       "<style scoped>\n",
       "    .dataframe tbody tr th:only-of-type {\n",
       "        vertical-align: middle;\n",
       "    }\n",
       "\n",
       "    .dataframe tbody tr th {\n",
       "        vertical-align: top;\n",
       "    }\n",
       "\n",
       "    .dataframe thead th {\n",
       "        text-align: right;\n",
       "    }\n",
       "</style>\n",
       "<table border=\"1\" class=\"dataframe\">\n",
       "  <thead>\n",
       "    <tr style=\"text-align: right;\">\n",
       "      <th></th>\n",
       "      <th>text</th>\n",
       "      <th>label</th>\n",
       "    </tr>\n",
       "  </thead>\n",
       "  <tbody>\n",
       "    <tr>\n",
       "      <th>0</th>\n",
       "      <td>RT @ryangrim: Rep. Andy Barr invited AOC to co...</td>\n",
       "      <td>38.309774</td>\n",
       "    </tr>\n",
       "    <tr>\n",
       "      <th>1</th>\n",
       "      <td>SCOOP: Rashida Tlaib Hosts Another Extreme Ant...</td>\n",
       "      <td>60.797810</td>\n",
       "    </tr>\n",
       "    <tr>\n",
       "      <th>2</th>\n",
       "      <td>RT @TheRealREDii: @LisaBritton Iâd say #Alex...</td>\n",
       "      <td>22.221705</td>\n",
       "    </tr>\n",
       "    <tr>\n",
       "      <th>3</th>\n",
       "      <td>@gavinhanson @kriers It's not a binary choice....</td>\n",
       "      <td>14.742798</td>\n",
       "    </tr>\n",
       "    <tr>\n",
       "      <th>4</th>\n",
       "      <td>RT @ChicagoMGD_SD: Bernie is a man who hired w...</td>\n",
       "      <td>52.803797</td>\n",
       "    </tr>\n",
       "  </tbody>\n",
       "</table>\n",
       "</div>"
      ],
      "text/plain": [
       "                                                text      label\n",
       "0  RT @ryangrim: Rep. Andy Barr invited AOC to co...  38.309774\n",
       "1  SCOOP: Rashida Tlaib Hosts Another Extreme Ant...  60.797810\n",
       "2  RT @TheRealREDii: @LisaBritton Iâd say #Alex...  22.221705\n",
       "3  @gavinhanson @kriers It's not a binary choice....  14.742798\n",
       "4  RT @ChicagoMGD_SD: Bernie is a man who hired w...  52.803797"
      ]
     },
     "execution_count": 4,
     "metadata": {},
     "output_type": "execute_result"
    }
   ],
   "source": [
    "X = tweets\n",
    "X = X.sample(frac=1).reset_index()\n",
    "X = X.drop(X.columns[0], axis=1)\n",
    "X.head()"
   ]
  },
  {
   "cell_type": "code",
   "execution_count": 5,
   "metadata": {
    "collapsed": true
   },
   "outputs": [],
   "source": [
    "X.to_csv('toxic-data/tweets_legit.csv', index=False)"
   ]
  },
  {
   "cell_type": "code",
   "execution_count": 6,
   "metadata": {
    "collapsed": false
   },
   "outputs": [],
   "source": [
    "spark = SparkSession.builder.appName('toxicity-detector').getOrCreate()\n",
    "df = spark.read.csv('toxic-data/tweets_legit.csv', header=True, mode=\"DROPMALFORMED\")\n",
    "df = df.select(cleanText(F.col('text')), F.col('label'))\n",
    "df = df.withColumn(\"label\", df[\"label\"].cast(DoubleType()))\n",
    "df = df.na.drop(subset=[\"text\", \"label\"])"
   ]
  },
  {
   "cell_type": "code",
   "execution_count": 7,
   "metadata": {
    "collapsed": true
   },
   "outputs": [],
   "source": [
    "train, test = df.randomSplit([0.75, 0.25], seed=12345)"
   ]
  },
  {
   "cell_type": "code",
   "execution_count": 25,
   "metadata": {
    "collapsed": false
   },
   "outputs": [],
   "source": [
    "tok = Tokenizer(inputCol=\"text\", outputCol=\"words\") \n",
    "removed = StopWordsRemover(inputCol=\"words\", outputCol=\"filtered\")\n",
    "htf = HashingTF(inputCol=\"filtered\", outputCol=\"tf\", numFeatures=200)\n",
    "idf = IDF(inputCol=\"tf\", outputCol=\"tfidf\")\n",
    "#w2v = Word2Vec(inputCol=\"words\", outputCol=\"w2v\")\n",
    "#va = VectorAssembler(inputCols=[\"tfidf\", \"w2v\"], outputCol=\"features\")\n",
    "va = VectorAssembler(inputCols=[\"tfidf\"], outputCol=\"features\")\n",
    "gbt = GBTRegressor()"
   ]
  },
  {
   "cell_type": "code",
   "execution_count": 26,
   "metadata": {
    "collapsed": false
   },
   "outputs": [],
   "source": [
    "pipeline = Pipeline(stages=[tok, removed, htf, idf, va, gbt])\n",
    "#pipeline = Pipeline(stages=[tok, removed, htf, idf, w2v, va, gbt])"
   ]
  },
  {
   "cell_type": "code",
   "execution_count": 27,
   "metadata": {
    "collapsed": true
   },
   "outputs": [],
   "source": [
    "paramGrid = ParamGridBuilder() \\\n",
    "    .addGrid(htf.numFeatures, [10, 100, 1000]) \\\n",
    "    .addGrid(gbt.maxDepth, [5, 8, 10, 20]) \\\n",
    "    .addGrid(gbt.maxIter, [10, 20, 50, 100]) \\\n",
    "    .build()"
   ]
  },
  {
   "cell_type": "code",
   "execution_count": 28,
   "metadata": {
    "collapsed": true
   },
   "outputs": [],
   "source": [
    "evaluator = RegressionEvaluator(metricName=\"rmse\")\n",
    "crossval = CrossValidator(estimator=pipeline,\n",
    "                          estimatorParamMaps=paramGrid,\n",
    "                          evaluator=evaluator,\n",
    "                          numFolds=5)"
   ]
  },
  {
   "cell_type": "code",
   "execution_count": 30,
   "metadata": {
    "collapsed": false
   },
   "outputs": [
    {
     "data": {
      "text/plain": [
       "CrossValidatorModel_2dd0d7e9a2fd"
      ]
     },
     "execution_count": 30,
     "metadata": {},
     "output_type": "execute_result"
    }
   ],
   "source": [
    "model = crossval.fit(train)\n",
    "model"
   ]
  },
  {
   "cell_type": "code",
   "execution_count": 31,
   "metadata": {
    "collapsed": false
   },
   "outputs": [],
   "source": [
    "model.bestModel.write().overwrite().save('spark-gradientboosting-toxic-tagger-cv')"
   ]
  },
  {
   "cell_type": "code",
   "execution_count": 8,
   "metadata": {
    "collapsed": false
   },
   "outputs": [],
   "source": [
    "model = PipelineModel.load('spark-gradientboosting-toxic-tagger-cv')"
   ]
  },
  {
   "cell_type": "code",
   "execution_count": 40,
   "metadata": {
    "collapsed": false
   },
   "outputs": [
    {
     "name": "stdout",
     "output_type": "stream",
     "text": [
      "+------------------+------------------+\n",
      "|             label|        prediction|\n",
      "+------------------+------------------+\n",
      "|         37.150908|16.707633992961796|\n",
      "|          53.09683| 51.57663165640131|\n",
      "|          53.09683| 51.57663165640131|\n",
      "|          53.09683| 51.57663165640131|\n",
      "|          53.09683| 51.57663165640131|\n",
      "|          53.09683| 51.57663165640131|\n",
      "|40.047276000000004|35.350306879753504|\n",
      "| 8.772462599999999|23.426745539614277|\n",
      "|         21.004884| 29.93864520533092|\n",
      "|           30.7749| 36.20351456519648|\n",
      "|         20.767283|32.250929085129656|\n",
      "|         17.013475|25.111167608704577|\n",
      "|11.212595599999998|  44.5596852951998|\n",
      "|        10.4985304|34.168561388513865|\n",
      "|         22.797832| 29.93864520533092|\n",
      "|         50.564337| 28.29655757280909|\n",
      "|         21.400388|23.235419335831864|\n",
      "|28.168446000000007| 45.91409650665748|\n",
      "|12.080839999999998|33.162195743118964|\n",
      "|         15.731607| 29.93864520533092|\n",
      "+------------------+------------------+\n",
      "only showing top 20 rows\n",
      "\n"
     ]
    }
   ],
   "source": [
    "prediction = model.transform(test).select(F.col(\"label\"), F.col(\"prediction\"))\n",
    "prediction.show()"
   ]
  },
  {
   "cell_type": "code",
   "execution_count": 41,
   "metadata": {
    "collapsed": false
   },
   "outputs": [
    {
     "data": {
      "text/html": [
       "<div>\n",
       "<style scoped>\n",
       "    .dataframe tbody tr th:only-of-type {\n",
       "        vertical-align: middle;\n",
       "    }\n",
       "\n",
       "    .dataframe tbody tr th {\n",
       "        vertical-align: top;\n",
       "    }\n",
       "\n",
       "    .dataframe thead th {\n",
       "        text-align: right;\n",
       "    }\n",
       "</style>\n",
       "<table border=\"1\" class=\"dataframe\">\n",
       "  <thead>\n",
       "    <tr style=\"text-align: right;\">\n",
       "      <th></th>\n",
       "      <th>label</th>\n",
       "      <th>prediction</th>\n",
       "    </tr>\n",
       "  </thead>\n",
       "  <tbody>\n",
       "    <tr>\n",
       "      <th>0</th>\n",
       "      <td>37.150908</td>\n",
       "      <td>16.707634</td>\n",
       "    </tr>\n",
       "    <tr>\n",
       "      <th>1</th>\n",
       "      <td>53.096830</td>\n",
       "      <td>51.576632</td>\n",
       "    </tr>\n",
       "    <tr>\n",
       "      <th>2</th>\n",
       "      <td>53.096830</td>\n",
       "      <td>51.576632</td>\n",
       "    </tr>\n",
       "    <tr>\n",
       "      <th>3</th>\n",
       "      <td>53.096830</td>\n",
       "      <td>51.576632</td>\n",
       "    </tr>\n",
       "    <tr>\n",
       "      <th>4</th>\n",
       "      <td>53.096830</td>\n",
       "      <td>51.576632</td>\n",
       "    </tr>\n",
       "  </tbody>\n",
       "</table>\n",
       "</div>"
      ],
      "text/plain": [
       "       label  prediction\n",
       "0  37.150908   16.707634\n",
       "1  53.096830   51.576632\n",
       "2  53.096830   51.576632\n",
       "3  53.096830   51.576632\n",
       "4  53.096830   51.576632"
      ]
     },
     "execution_count": 41,
     "metadata": {},
     "output_type": "execute_result"
    }
   ],
   "source": [
    "prediction = prediction.toPandas()\n",
    "prediction.head()"
   ]
  },
  {
   "cell_type": "code",
   "execution_count": 17,
   "metadata": {
    "collapsed": false
   },
   "outputs": [
    {
     "data": {
      "text/plain": [
       "16.89656649770372"
      ]
     },
     "execution_count": 17,
     "metadata": {},
     "output_type": "execute_result"
    }
   ],
   "source": [
    "from sklearn.metrics import mean_squared_error\n",
    "np.sqrt(mean_squared_error(prediction.label, prediction.prediction))"
   ]
  },
  {
   "cell_type": "code",
   "execution_count": 18,
   "metadata": {
    "collapsed": false
   },
   "outputs": [
    {
     "data": {
      "text/plain": [
       "33.36243253870057"
      ]
     },
     "execution_count": 18,
     "metadata": {},
     "output_type": "execute_result"
    }
   ],
   "source": [
    "np.mean(prediction.label)"
   ]
  },
  {
   "cell_type": "code",
   "execution_count": 32,
   "metadata": {
    "collapsed": false
   },
   "outputs": [
    {
     "name": "stdout",
     "output_type": "stream",
     "text": [
      "+------------------+------------------+\n",
      "|             label|        prediction|\n",
      "+------------------+------------------+\n",
      "|         37.150908|16.707633992961796|\n",
      "|          53.09683| 51.57663165640131|\n",
      "|          53.09683| 51.57663165640131|\n",
      "|          53.09683| 51.57663165640131|\n",
      "|          53.09683| 51.57663165640131|\n",
      "|          53.09683| 51.57663165640131|\n",
      "|40.047276000000004|35.350306879753504|\n",
      "| 8.772462599999999|23.426745539614277|\n",
      "|         21.004884| 29.93864520533092|\n",
      "|           30.7749| 36.20351456519648|\n",
      "|         20.767283|32.250929085129656|\n",
      "|         17.013475|25.111167608704577|\n",
      "|11.212595599999998|  44.5596852951998|\n",
      "|        10.4985304|34.168561388513865|\n",
      "|         22.797832| 29.93864520533092|\n",
      "|         50.564337| 28.29655757280909|\n",
      "|         21.400388|23.235419335831864|\n",
      "|28.168446000000007| 45.91409650665748|\n",
      "|12.080839999999998|33.162195743118964|\n",
      "|         15.731607| 29.93864520533092|\n",
      "+------------------+------------------+\n",
      "only showing top 20 rows\n",
      "\n"
     ]
    }
   ],
   "source": [
    "prediction = model.transform(test).select(F.col(\"label\"), F.col(\"prediction\"))\n",
    "prediction.show()"
   ]
  },
  {
   "cell_type": "code",
   "execution_count": 28,
   "metadata": {
    "collapsed": false
   },
   "outputs": [],
   "source": [
    "prediction = prediction[(prediction['prediction'] > 20) & (prediction['prediction'] < 50)]"
   ]
  },
  {
   "cell_type": "code",
   "execution_count": 49,
   "metadata": {
    "collapsed": false
   },
   "outputs": [
    {
     "data": {
      "image/png": "[encoded data removed]",
      "text/plain": [
       "<matplotlib.figure.Figure at 0x12d3ef8d0>"
      ]
     },
     "metadata": {},
     "output_type": "display_data"
    }
   ],
   "source": [
    "import matplotlib.pyplot as plt\n",
    "plt.plot(prediction.label,prediction.prediction,'ro')\n",
    "plt.title('Cross-Correlation Scatterplot of MLTox prediction vs. Perspective API')\n",
    "plt.xlabel(\"Perspective API Toxicity Score\")\n",
    "plt.ylabel(\"MLTox Toxicity Score\")\n",
    "x = prediction['label']\n",
    "y = prediction['prediction']\n",
    "z = np.polyfit(x, y, 1)\n",
    "p = np.poly1d(z)\n",
    "plt.plot(x,p(x),\"b--\")\n",
    "plt.show()"
   ]
  },
  {
   "cell_type": "code",
   "execution_count": 50,
   "metadata": {
    "collapsed": false
   },
   "outputs": [
    {
     "data": {
      "text/plain": [
       "(0.5314052809094576, 7.563297317382702e-53)"
      ]
     },
     "execution_count": 50,
     "metadata": {},
     "output_type": "execute_result"
    }
   ],
   "source": [
    "import scipy\n",
    "scipy.stats.pearsonr(prediction.prediction,prediction.label)"
   ]
  }
 ],
 "metadata": {
  "kernelspec": {
   "display_name": "Python 3",
   "language": "python",
   "name": "python3"
  },
  "language_info": {
   "codemirror_mode": {
    "name": "ipython",
    "version": 3
   },
   "file_extension": ".py",
   "mimetype": "text/x-python",
   "name": "python",
   "nbconvert_exporter": "python",
   "pygments_lexer": "ipython3",
   "version": "3.5.2"
  }
 },
 "nbformat": 4,
 "nbformat_minor": 2
}
